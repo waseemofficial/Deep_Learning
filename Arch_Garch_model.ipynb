{
 "cells": [
  {
   "cell_type": "markdown",
   "metadata": {},
   "source": [
    "# <center> <span style=\"color:lightblue\"> ARCH & GARCH Model</span>\n",
    "### <center> Time Series Analysis"
   ]
  },
  {
   "cell_type": "code",
   "execution_count": null,
   "metadata": {},
   "outputs": [],
   "source": [
    "#https://www.youtube.com/watch?v=Li95a2biFCU\n",
    "#https://www.youtube.com/watch?v=k9jOeUKRGSs&list=PLtIY5kwXKny91_IbkqcIXuv6t1prQwFhO\n",
    "#https://github.com/a7madmostafa/365datascience/tree/master/20%20-%20Time%20Series%20Analysis%20in%20Python"
   ]
  },
  {
   "cell_type": "markdown",
   "metadata": {},
   "source": [
    "- AR (Auto-Regression) use --> Predict movements based on correlations\n",
    "- MA (Moving-Average) use --> Account for unexpected shocks in the data\n",
    "- AR + MA (ARMA) -->"
   ]
  },
  {
   "cell_type": "code",
   "execution_count": null,
   "metadata": {},
   "outputs": [],
   "source": [
    "from arch import arch_model "
   ]
  }
 ],
 "metadata": {
  "kernelspec": {
   "display_name": "base",
   "language": "python",
   "name": "python3"
  },
  "language_info": {
   "name": "python",
   "version": "3.11.5"
  }
 },
 "nbformat": 4,
 "nbformat_minor": 2
}
